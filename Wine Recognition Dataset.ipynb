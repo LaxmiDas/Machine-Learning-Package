{
 "cells": [
  {
   "cell_type": "code",
   "execution_count": 1,
   "id": "9bed3cc0",
   "metadata": {},
   "outputs": [],
   "source": [
    "#Importing Libraries\n",
    "\n",
    "import numpy as np\n",
    "import matplotlib.pyplot as plt\n",
    "import seaborn as sns\n",
    "import pandas as pd\n",
    "from sklearn.model_selection import cross_val_score,StratifiedKFold,train_test_split\n",
    "%matplotlib inline"
   ]
  },
  {
   "cell_type": "code",
   "execution_count": 2,
   "id": "b1d4654e",
   "metadata": {},
   "outputs": [],
   "source": [
    "from sklearn.datasets import load_wine"
   ]
  },
  {
   "cell_type": "code",
   "execution_count": 19,
   "id": "5642b569",
   "metadata": {},
   "outputs": [],
   "source": [
    "wine = load_wine()"
   ]
  },
  {
   "cell_type": "code",
   "execution_count": 20,
   "id": "18944ea3",
   "metadata": {},
   "outputs": [
    {
     "data": {
      "text/plain": [
       "['DESCR', 'data', 'feature_names', 'frame', 'target', 'target_names']"
      ]
     },
     "execution_count": 20,
     "metadata": {},
     "output_type": "execute_result"
    }
   ],
   "source": [
    "dir(wine)"
   ]
  },
  {
   "cell_type": "code",
   "execution_count": 21,
   "id": "95e3b7ec",
   "metadata": {},
   "outputs": [
    {
     "name": "stdout",
     "output_type": "stream",
     "text": [
      ".. _wine_dataset:\n",
      "\n",
      "Wine recognition dataset\n",
      "------------------------\n",
      "\n",
      "**Data Set Characteristics:**\n",
      "\n",
      "    :Number of Instances: 178 (50 in each of three classes)\n",
      "    :Number of Attributes: 13 numeric, predictive attributes and the class\n",
      "    :Attribute Information:\n",
      " \t\t- Alcohol\n",
      " \t\t- Malic acid\n",
      " \t\t- Ash\n",
      "\t\t- Alcalinity of ash  \n",
      " \t\t- Magnesium\n",
      "\t\t- Total phenols\n",
      " \t\t- Flavanoids\n",
      " \t\t- Nonflavanoid phenols\n",
      " \t\t- Proanthocyanins\n",
      "\t\t- Color intensity\n",
      " \t\t- Hue\n",
      " \t\t- OD280/OD315 of diluted wines\n",
      " \t\t- Proline\n",
      "\n",
      "    - class:\n",
      "            - class_0\n",
      "            - class_1\n",
      "            - class_2\n",
      "\t\t\n",
      "    :Summary Statistics:\n",
      "    \n",
      "    ============================= ==== ===== ======= =====\n",
      "                                   Min   Max   Mean     SD\n",
      "    ============================= ==== ===== ======= =====\n",
      "    Alcohol:                      11.0  14.8    13.0   0.8\n",
      "    Malic Acid:                   0.74  5.80    2.34  1.12\n",
      "    Ash:                          1.36  3.23    2.36  0.27\n",
      "    Alcalinity of Ash:            10.6  30.0    19.5   3.3\n",
      "    Magnesium:                    70.0 162.0    99.7  14.3\n",
      "    Total Phenols:                0.98  3.88    2.29  0.63\n",
      "    Flavanoids:                   0.34  5.08    2.03  1.00\n",
      "    Nonflavanoid Phenols:         0.13  0.66    0.36  0.12\n",
      "    Proanthocyanins:              0.41  3.58    1.59  0.57\n",
      "    Colour Intensity:              1.3  13.0     5.1   2.3\n",
      "    Hue:                          0.48  1.71    0.96  0.23\n",
      "    OD280/OD315 of diluted wines: 1.27  4.00    2.61  0.71\n",
      "    Proline:                       278  1680     746   315\n",
      "    ============================= ==== ===== ======= =====\n",
      "\n",
      "    :Missing Attribute Values: None\n",
      "    :Class Distribution: class_0 (59), class_1 (71), class_2 (48)\n",
      "    :Creator: R.A. Fisher\n",
      "    :Donor: Michael Marshall (MARSHALL%PLU@io.arc.nasa.gov)\n",
      "    :Date: July, 1988\n",
      "\n",
      "This is a copy of UCI ML Wine recognition datasets.\n",
      "https://archive.ics.uci.edu/ml/machine-learning-databases/wine/wine.data\n",
      "\n",
      "The data is the results of a chemical analysis of wines grown in the same\n",
      "region in Italy by three different cultivators. There are thirteen different\n",
      "measurements taken for different constituents found in the three types of\n",
      "wine.\n",
      "\n",
      "Original Owners: \n",
      "\n",
      "Forina, M. et al, PARVUS - \n",
      "An Extendible Package for Data Exploration, Classification and Correlation. \n",
      "Institute of Pharmaceutical and Food Analysis and Technologies,\n",
      "Via Brigata Salerno, 16147 Genoa, Italy.\n",
      "\n",
      "Citation:\n",
      "\n",
      "Lichman, M. (2013). UCI Machine Learning Repository\n",
      "[https://archive.ics.uci.edu/ml]. Irvine, CA: University of California,\n",
      "School of Information and Computer Science. \n",
      "\n",
      ".. topic:: References\n",
      "\n",
      "  (1) S. Aeberhard, D. Coomans and O. de Vel, \n",
      "  Comparison of Classifiers in High Dimensional Settings, \n",
      "  Tech. Rep. no. 92-02, (1992), Dept. of Computer Science and Dept. of  \n",
      "  Mathematics and Statistics, James Cook University of North Queensland. \n",
      "  (Also submitted to Technometrics). \n",
      "\n",
      "  The data was used with many others for comparing various \n",
      "  classifiers. The classes are separable, though only RDA \n",
      "  has achieved 100% correct classification. \n",
      "  (RDA : 100%, QDA 99.4%, LDA 98.9%, 1NN 96.1% (z-transformed data)) \n",
      "  (All results using the leave-one-out technique) \n",
      "\n",
      "  (2) S. Aeberhard, D. Coomans and O. de Vel, \n",
      "  \"THE CLASSIFICATION PERFORMANCE OF RDA\" \n",
      "  Tech. Rep. no. 92-01, (1992), Dept. of Computer Science and Dept. of \n",
      "  Mathematics and Statistics, James Cook University of North Queensland. \n",
      "  (Also submitted to Journal of Chemometrics).\n",
      "\n"
     ]
    }
   ],
   "source": [
    "print(wine.DESCR)"
   ]
  },
  {
   "cell_type": "code",
   "execution_count": 22,
   "id": "da7d7571",
   "metadata": {},
   "outputs": [],
   "source": [
    "inputs = wine.data"
   ]
  },
  {
   "cell_type": "code",
   "execution_count": 23,
   "id": "57862c25",
   "metadata": {},
   "outputs": [],
   "source": [
    "output = wine.target"
   ]
  },
  {
   "cell_type": "code",
   "execution_count": 24,
   "id": "873f2a43",
   "metadata": {},
   "outputs": [
    {
     "data": {
      "text/plain": [
       "(178, 13)"
      ]
     },
     "execution_count": 24,
     "metadata": {},
     "output_type": "execute_result"
    }
   ],
   "source": [
    "inputs.shape"
   ]
  },
  {
   "cell_type": "code",
   "execution_count": 25,
   "id": "797074ca",
   "metadata": {},
   "outputs": [
    {
     "data": {
      "text/plain": [
       "(178,)"
      ]
     },
     "execution_count": 25,
     "metadata": {},
     "output_type": "execute_result"
    }
   ],
   "source": [
    "output.shape"
   ]
  },
  {
   "cell_type": "code",
   "execution_count": 26,
   "id": "8565cb9a",
   "metadata": {},
   "outputs": [
    {
     "data": {
      "text/plain": [
       "['alcohol',\n",
       " 'malic_acid',\n",
       " 'ash',\n",
       " 'alcalinity_of_ash',\n",
       " 'magnesium',\n",
       " 'total_phenols',\n",
       " 'flavanoids',\n",
       " 'nonflavanoid_phenols',\n",
       " 'proanthocyanins',\n",
       " 'color_intensity',\n",
       " 'hue',\n",
       " 'od280/od315_of_diluted_wines',\n",
       " 'proline']"
      ]
     },
     "execution_count": 26,
     "metadata": {},
     "output_type": "execute_result"
    }
   ],
   "source": [
    "wine.feature_names"
   ]
  },
  {
   "cell_type": "code",
   "execution_count": 27,
   "id": "5c547ec0",
   "metadata": {},
   "outputs": [],
   "source": [
    "import pandas as pd"
   ]
  },
  {
   "cell_type": "code",
   "execution_count": 28,
   "id": "20ea1dfa",
   "metadata": {},
   "outputs": [
    {
     "data": {
      "text/plain": [
       "array(['class_0', 'class_1', 'class_2'], dtype='<U7')"
      ]
     },
     "execution_count": 28,
     "metadata": {},
     "output_type": "execute_result"
    }
   ],
   "source": [
    "wine.target_names"
   ]
  },
  {
   "cell_type": "code",
   "execution_count": null,
   "id": "67e497f5",
   "metadata": {},
   "outputs": [],
   "source": []
  },
  {
   "cell_type": "code",
   "execution_count": 29,
   "id": "bedf845a",
   "metadata": {},
   "outputs": [
    {
     "name": "stdout",
     "output_type": "stream",
     "text": [
      "      0     1     2     3      4     5     6     7     8     9     10    11  \\\n",
      "0  14.23  1.71  2.43  15.6  127.0  2.80  3.06  0.28  2.29  5.64  1.04  3.92   \n",
      "1  13.20  1.78  2.14  11.2  100.0  2.65  2.76  0.26  1.28  4.38  1.05  3.40   \n",
      "2  13.16  2.36  2.67  18.6  101.0  2.80  3.24  0.30  2.81  5.68  1.03  3.17   \n",
      "3  14.37  1.95  2.50  16.8  113.0  3.85  3.49  0.24  2.18  7.80  0.86  3.45   \n",
      "4  13.24  2.59  2.87  21.0  118.0  2.80  2.69  0.39  1.82  4.32  1.04  2.93   \n",
      "\n",
      "       12  \n",
      "0  1065.0  \n",
      "1  1050.0  \n",
      "2  1185.0  \n",
      "3  1480.0  \n",
      "4   735.0  \n"
     ]
    }
   ],
   "source": [
    "X = pd.DataFrame(wine['data'])\n",
    "print(X.head())"
   ]
  },
  {
   "cell_type": "code",
   "execution_count": 31,
   "id": "0abe0c08",
   "metadata": {},
   "outputs": [
    {
     "name": "stdout",
     "output_type": "stream",
     "text": [
      "[0 0 0 0 0 0 0 0 0 0 0 0 0 0 0 0 0 0 0 0 0 0 0 0 0 0 0 0 0 0 0 0 0 0 0 0 0\n",
      " 0 0 0 0 0 0 0 0 0 0 0 0 0 0 0 0 0 0 0 0 0 0 1 1 1 1 1 1 1 1 1 1 1 1 1 1 1\n",
      " 1 1 1 1 1 1 1 1 1 1 1 1 1 1 1 1 1 1 1 1 1 1 1 1 1 1 1 1 1 1 1 1 1 1 1 1 1\n",
      " 1 1 1 1 1 1 1 1 1 1 1 1 1 1 1 1 1 1 1 2 2 2 2 2 2 2 2 2 2 2 2 2 2 2 2 2 2\n",
      " 2 2 2 2 2 2 2 2 2 2 2 2 2 2 2 2 2 2 2 2 2 2 2 2 2 2 2 2 2 2]\n"
     ]
    }
   ],
   "source": [
    "y = print(wine.target)"
   ]
  },
  {
   "cell_type": "code",
   "execution_count": 32,
   "id": "9648d0ef",
   "metadata": {},
   "outputs": [],
   "source": [
    "# Split the data\n",
    "\n",
    "from sklearn.model_selection import train_test_split\n",
    "\n",
    "X_train, X_test, y_train, y_test = train_test_split(wine.data, wine.target, test_size=0.30, random_state=100)"
   ]
  },
  {
   "cell_type": "code",
   "execution_count": 16,
   "id": "e0fef526",
   "metadata": {},
   "outputs": [
    {
     "data": {
      "text/html": [
       "<style type=\"text/css\">\n",
       "</style>\n",
       "<table id=\"T_59efd\">\n",
       "  <thead>\n",
       "    <tr>\n",
       "      <th class=\"blank level0\" >&nbsp;</th>\n",
       "      <th id=\"T_59efd_level0_col0\" class=\"col_heading level0 col0\" >alcohol</th>\n",
       "      <th id=\"T_59efd_level0_col1\" class=\"col_heading level0 col1\" >malic_acid</th>\n",
       "      <th id=\"T_59efd_level0_col2\" class=\"col_heading level0 col2\" >ash</th>\n",
       "      <th id=\"T_59efd_level0_col3\" class=\"col_heading level0 col3\" >alcalinity_of_ash</th>\n",
       "      <th id=\"T_59efd_level0_col4\" class=\"col_heading level0 col4\" >magnesium</th>\n",
       "      <th id=\"T_59efd_level0_col5\" class=\"col_heading level0 col5\" >total_phenols</th>\n",
       "      <th id=\"T_59efd_level0_col6\" class=\"col_heading level0 col6\" >flavanoids</th>\n",
       "      <th id=\"T_59efd_level0_col7\" class=\"col_heading level0 col7\" >nonflavanoid_phenols</th>\n",
       "      <th id=\"T_59efd_level0_col8\" class=\"col_heading level0 col8\" >proanthocyanins</th>\n",
       "      <th id=\"T_59efd_level0_col9\" class=\"col_heading level0 col9\" >color_intensity</th>\n",
       "      <th id=\"T_59efd_level0_col10\" class=\"col_heading level0 col10\" >hue</th>\n",
       "      <th id=\"T_59efd_level0_col11\" class=\"col_heading level0 col11\" >od280/od315_of_diluted_wines</th>\n",
       "      <th id=\"T_59efd_level0_col12\" class=\"col_heading level0 col12\" >proline</th>\n",
       "      <th id=\"T_59efd_level0_col13\" class=\"col_heading level0 col13\" >0</th>\n",
       "    </tr>\n",
       "  </thead>\n",
       "  <tbody>\n",
       "    <tr>\n",
       "      <th id=\"T_59efd_level0_row0\" class=\"row_heading level0 row0\" >count</th>\n",
       "      <td id=\"T_59efd_row0_col0\" class=\"data row0 col0\" >178.00000</td>\n",
       "      <td id=\"T_59efd_row0_col1\" class=\"data row0 col1\" >178.00000</td>\n",
       "      <td id=\"T_59efd_row0_col2\" class=\"data row0 col2\" >178.00000</td>\n",
       "      <td id=\"T_59efd_row0_col3\" class=\"data row0 col3\" >178.00000</td>\n",
       "      <td id=\"T_59efd_row0_col4\" class=\"data row0 col4\" >178.00000</td>\n",
       "      <td id=\"T_59efd_row0_col5\" class=\"data row0 col5\" >178.00000</td>\n",
       "      <td id=\"T_59efd_row0_col6\" class=\"data row0 col6\" >178.00000</td>\n",
       "      <td id=\"T_59efd_row0_col7\" class=\"data row0 col7\" >178.00000</td>\n",
       "      <td id=\"T_59efd_row0_col8\" class=\"data row0 col8\" >178.00000</td>\n",
       "      <td id=\"T_59efd_row0_col9\" class=\"data row0 col9\" >178.00000</td>\n",
       "      <td id=\"T_59efd_row0_col10\" class=\"data row0 col10\" >178.00000</td>\n",
       "      <td id=\"T_59efd_row0_col11\" class=\"data row0 col11\" >178.00000</td>\n",
       "      <td id=\"T_59efd_row0_col12\" class=\"data row0 col12\" >178.00000</td>\n",
       "      <td id=\"T_59efd_row0_col13\" class=\"data row0 col13\" >178.00000</td>\n",
       "    </tr>\n",
       "    <tr>\n",
       "      <th id=\"T_59efd_level0_row1\" class=\"row_heading level0 row1\" >mean</th>\n",
       "      <td id=\"T_59efd_row1_col0\" class=\"data row1 col0\" >13.00062</td>\n",
       "      <td id=\"T_59efd_row1_col1\" class=\"data row1 col1\" >2.33635</td>\n",
       "      <td id=\"T_59efd_row1_col2\" class=\"data row1 col2\" >2.36652</td>\n",
       "      <td id=\"T_59efd_row1_col3\" class=\"data row1 col3\" >19.49494</td>\n",
       "      <td id=\"T_59efd_row1_col4\" class=\"data row1 col4\" >99.74157</td>\n",
       "      <td id=\"T_59efd_row1_col5\" class=\"data row1 col5\" >2.29511</td>\n",
       "      <td id=\"T_59efd_row1_col6\" class=\"data row1 col6\" >2.02927</td>\n",
       "      <td id=\"T_59efd_row1_col7\" class=\"data row1 col7\" >0.36185</td>\n",
       "      <td id=\"T_59efd_row1_col8\" class=\"data row1 col8\" >1.59090</td>\n",
       "      <td id=\"T_59efd_row1_col9\" class=\"data row1 col9\" >5.05809</td>\n",
       "      <td id=\"T_59efd_row1_col10\" class=\"data row1 col10\" >0.95745</td>\n",
       "      <td id=\"T_59efd_row1_col11\" class=\"data row1 col11\" >2.61169</td>\n",
       "      <td id=\"T_59efd_row1_col12\" class=\"data row1 col12\" >746.89326</td>\n",
       "      <td id=\"T_59efd_row1_col13\" class=\"data row1 col13\" >0.93820</td>\n",
       "    </tr>\n",
       "    <tr>\n",
       "      <th id=\"T_59efd_level0_row2\" class=\"row_heading level0 row2\" >std</th>\n",
       "      <td id=\"T_59efd_row2_col0\" class=\"data row2 col0\" >0.81183</td>\n",
       "      <td id=\"T_59efd_row2_col1\" class=\"data row2 col1\" >1.11715</td>\n",
       "      <td id=\"T_59efd_row2_col2\" class=\"data row2 col2\" >0.27434</td>\n",
       "      <td id=\"T_59efd_row2_col3\" class=\"data row2 col3\" >3.33956</td>\n",
       "      <td id=\"T_59efd_row2_col4\" class=\"data row2 col4\" >14.28248</td>\n",
       "      <td id=\"T_59efd_row2_col5\" class=\"data row2 col5\" >0.62585</td>\n",
       "      <td id=\"T_59efd_row2_col6\" class=\"data row2 col6\" >0.99886</td>\n",
       "      <td id=\"T_59efd_row2_col7\" class=\"data row2 col7\" >0.12445</td>\n",
       "      <td id=\"T_59efd_row2_col8\" class=\"data row2 col8\" >0.57236</td>\n",
       "      <td id=\"T_59efd_row2_col9\" class=\"data row2 col9\" >2.31829</td>\n",
       "      <td id=\"T_59efd_row2_col10\" class=\"data row2 col10\" >0.22857</td>\n",
       "      <td id=\"T_59efd_row2_col11\" class=\"data row2 col11\" >0.70999</td>\n",
       "      <td id=\"T_59efd_row2_col12\" class=\"data row2 col12\" >314.90747</td>\n",
       "      <td id=\"T_59efd_row2_col13\" class=\"data row2 col13\" >0.77503</td>\n",
       "    </tr>\n",
       "    <tr>\n",
       "      <th id=\"T_59efd_level0_row3\" class=\"row_heading level0 row3\" >min</th>\n",
       "      <td id=\"T_59efd_row3_col0\" class=\"data row3 col0\" >11.03000</td>\n",
       "      <td id=\"T_59efd_row3_col1\" class=\"data row3 col1\" >0.74000</td>\n",
       "      <td id=\"T_59efd_row3_col2\" class=\"data row3 col2\" >1.36000</td>\n",
       "      <td id=\"T_59efd_row3_col3\" class=\"data row3 col3\" >10.60000</td>\n",
       "      <td id=\"T_59efd_row3_col4\" class=\"data row3 col4\" >70.00000</td>\n",
       "      <td id=\"T_59efd_row3_col5\" class=\"data row3 col5\" >0.98000</td>\n",
       "      <td id=\"T_59efd_row3_col6\" class=\"data row3 col6\" >0.34000</td>\n",
       "      <td id=\"T_59efd_row3_col7\" class=\"data row3 col7\" >0.13000</td>\n",
       "      <td id=\"T_59efd_row3_col8\" class=\"data row3 col8\" >0.41000</td>\n",
       "      <td id=\"T_59efd_row3_col9\" class=\"data row3 col9\" >1.28000</td>\n",
       "      <td id=\"T_59efd_row3_col10\" class=\"data row3 col10\" >0.48000</td>\n",
       "      <td id=\"T_59efd_row3_col11\" class=\"data row3 col11\" >1.27000</td>\n",
       "      <td id=\"T_59efd_row3_col12\" class=\"data row3 col12\" >278.00000</td>\n",
       "      <td id=\"T_59efd_row3_col13\" class=\"data row3 col13\" >0.00000</td>\n",
       "    </tr>\n",
       "    <tr>\n",
       "      <th id=\"T_59efd_level0_row4\" class=\"row_heading level0 row4\" >25%</th>\n",
       "      <td id=\"T_59efd_row4_col0\" class=\"data row4 col0\" >12.36250</td>\n",
       "      <td id=\"T_59efd_row4_col1\" class=\"data row4 col1\" >1.60250</td>\n",
       "      <td id=\"T_59efd_row4_col2\" class=\"data row4 col2\" >2.21000</td>\n",
       "      <td id=\"T_59efd_row4_col3\" class=\"data row4 col3\" >17.20000</td>\n",
       "      <td id=\"T_59efd_row4_col4\" class=\"data row4 col4\" >88.00000</td>\n",
       "      <td id=\"T_59efd_row4_col5\" class=\"data row4 col5\" >1.74250</td>\n",
       "      <td id=\"T_59efd_row4_col6\" class=\"data row4 col6\" >1.20500</td>\n",
       "      <td id=\"T_59efd_row4_col7\" class=\"data row4 col7\" >0.27000</td>\n",
       "      <td id=\"T_59efd_row4_col8\" class=\"data row4 col8\" >1.25000</td>\n",
       "      <td id=\"T_59efd_row4_col9\" class=\"data row4 col9\" >3.22000</td>\n",
       "      <td id=\"T_59efd_row4_col10\" class=\"data row4 col10\" >0.78250</td>\n",
       "      <td id=\"T_59efd_row4_col11\" class=\"data row4 col11\" >1.93750</td>\n",
       "      <td id=\"T_59efd_row4_col12\" class=\"data row4 col12\" >500.50000</td>\n",
       "      <td id=\"T_59efd_row4_col13\" class=\"data row4 col13\" >0.00000</td>\n",
       "    </tr>\n",
       "    <tr>\n",
       "      <th id=\"T_59efd_level0_row5\" class=\"row_heading level0 row5\" >50%</th>\n",
       "      <td id=\"T_59efd_row5_col0\" class=\"data row5 col0\" >13.05000</td>\n",
       "      <td id=\"T_59efd_row5_col1\" class=\"data row5 col1\" >1.86500</td>\n",
       "      <td id=\"T_59efd_row5_col2\" class=\"data row5 col2\" >2.36000</td>\n",
       "      <td id=\"T_59efd_row5_col3\" class=\"data row5 col3\" >19.50000</td>\n",
       "      <td id=\"T_59efd_row5_col4\" class=\"data row5 col4\" >98.00000</td>\n",
       "      <td id=\"T_59efd_row5_col5\" class=\"data row5 col5\" >2.35500</td>\n",
       "      <td id=\"T_59efd_row5_col6\" class=\"data row5 col6\" >2.13500</td>\n",
       "      <td id=\"T_59efd_row5_col7\" class=\"data row5 col7\" >0.34000</td>\n",
       "      <td id=\"T_59efd_row5_col8\" class=\"data row5 col8\" >1.55500</td>\n",
       "      <td id=\"T_59efd_row5_col9\" class=\"data row5 col9\" >4.69000</td>\n",
       "      <td id=\"T_59efd_row5_col10\" class=\"data row5 col10\" >0.96500</td>\n",
       "      <td id=\"T_59efd_row5_col11\" class=\"data row5 col11\" >2.78000</td>\n",
       "      <td id=\"T_59efd_row5_col12\" class=\"data row5 col12\" >673.50000</td>\n",
       "      <td id=\"T_59efd_row5_col13\" class=\"data row5 col13\" >1.00000</td>\n",
       "    </tr>\n",
       "    <tr>\n",
       "      <th id=\"T_59efd_level0_row6\" class=\"row_heading level0 row6\" >75%</th>\n",
       "      <td id=\"T_59efd_row6_col0\" class=\"data row6 col0\" >13.67750</td>\n",
       "      <td id=\"T_59efd_row6_col1\" class=\"data row6 col1\" >3.08250</td>\n",
       "      <td id=\"T_59efd_row6_col2\" class=\"data row6 col2\" >2.55750</td>\n",
       "      <td id=\"T_59efd_row6_col3\" class=\"data row6 col3\" >21.50000</td>\n",
       "      <td id=\"T_59efd_row6_col4\" class=\"data row6 col4\" >107.00000</td>\n",
       "      <td id=\"T_59efd_row6_col5\" class=\"data row6 col5\" >2.80000</td>\n",
       "      <td id=\"T_59efd_row6_col6\" class=\"data row6 col6\" >2.87500</td>\n",
       "      <td id=\"T_59efd_row6_col7\" class=\"data row6 col7\" >0.43750</td>\n",
       "      <td id=\"T_59efd_row6_col8\" class=\"data row6 col8\" >1.95000</td>\n",
       "      <td id=\"T_59efd_row6_col9\" class=\"data row6 col9\" >6.20000</td>\n",
       "      <td id=\"T_59efd_row6_col10\" class=\"data row6 col10\" >1.12000</td>\n",
       "      <td id=\"T_59efd_row6_col11\" class=\"data row6 col11\" >3.17000</td>\n",
       "      <td id=\"T_59efd_row6_col12\" class=\"data row6 col12\" >985.00000</td>\n",
       "      <td id=\"T_59efd_row6_col13\" class=\"data row6 col13\" >2.00000</td>\n",
       "    </tr>\n",
       "    <tr>\n",
       "      <th id=\"T_59efd_level0_row7\" class=\"row_heading level0 row7\" >max</th>\n",
       "      <td id=\"T_59efd_row7_col0\" class=\"data row7 col0\" >14.83000</td>\n",
       "      <td id=\"T_59efd_row7_col1\" class=\"data row7 col1\" >5.80000</td>\n",
       "      <td id=\"T_59efd_row7_col2\" class=\"data row7 col2\" >3.23000</td>\n",
       "      <td id=\"T_59efd_row7_col3\" class=\"data row7 col3\" >30.00000</td>\n",
       "      <td id=\"T_59efd_row7_col4\" class=\"data row7 col4\" >162.00000</td>\n",
       "      <td id=\"T_59efd_row7_col5\" class=\"data row7 col5\" >3.88000</td>\n",
       "      <td id=\"T_59efd_row7_col6\" class=\"data row7 col6\" >5.08000</td>\n",
       "      <td id=\"T_59efd_row7_col7\" class=\"data row7 col7\" >0.66000</td>\n",
       "      <td id=\"T_59efd_row7_col8\" class=\"data row7 col8\" >3.58000</td>\n",
       "      <td id=\"T_59efd_row7_col9\" class=\"data row7 col9\" >13.00000</td>\n",
       "      <td id=\"T_59efd_row7_col10\" class=\"data row7 col10\" >1.71000</td>\n",
       "      <td id=\"T_59efd_row7_col11\" class=\"data row7 col11\" >4.00000</td>\n",
       "      <td id=\"T_59efd_row7_col12\" class=\"data row7 col12\" >1680.00000</td>\n",
       "      <td id=\"T_59efd_row7_col13\" class=\"data row7 col13\" >2.00000</td>\n",
       "    </tr>\n",
       "  </tbody>\n",
       "</table>\n"
      ],
      "text/plain": [
       "<pandas.io.formats.style.Styler at 0x2054310eaf0>"
      ]
     },
     "execution_count": 16,
     "metadata": {},
     "output_type": "execute_result"
    }
   ],
   "source": [
    " "
   ]
  },
  {
   "cell_type": "code",
   "execution_count": null,
   "id": "3c36337a",
   "metadata": {},
   "outputs": [],
   "source": []
  },
  {
   "cell_type": "code",
   "execution_count": 36,
   "id": "267987bf",
   "metadata": {},
   "outputs": [
    {
     "name": "stdout",
     "output_type": "stream",
     "text": [
      "[1 2 0 1 2 2 1 1 1 1 2 1 2 2 2 0 2 0 1 0 2 0 1 1 0 0 1 1 1 2 2 1 0 1 2 2 1\n",
      " 1 2 2 0 2 2 2 0 2 2 2 0 0 0 1 0 1]\n"
     ]
    }
   ],
   "source": [
    "# Gaussian Naive Bayes\n",
    "\n",
    "from sklearn.naive_bayes import GaussianNB\n",
    "gnb = GaussianNB()\n",
    "\n",
    "gnb.fit(X_train,y_train)\n",
    "y_pred = gnb.predict(X_test)\n",
    "print(y_pred)"
   ]
  },
  {
   "cell_type": "code",
   "execution_count": 39,
   "id": "04ec4591",
   "metadata": {},
   "outputs": [
    {
     "name": "stdout",
     "output_type": "stream",
     "text": [
      "1.0\n"
     ]
    }
   ],
   "source": [
    "from sklearn import metrics\n",
    "\n",
    "print(metrics.accuracy_score(y_test,y_pred))"
   ]
  },
  {
   "cell_type": "code",
   "execution_count": 42,
   "id": "0724ede3",
   "metadata": {},
   "outputs": [
    {
     "name": "stdout",
     "output_type": "stream",
     "text": [
      "[1 2 0 1 2 2 1 1 1 0 1 1 2 2 2 0 2 0 1 0 2 0 1 1 0 0 1 1 1 2 2 1 0 1 2 2 1\n",
      " 1 2 2 0 2 2 2 0 2 2 2 0 0 0 1 0 1]\n"
     ]
    }
   ],
   "source": [
    "# Logistic Regression\n",
    "\n",
    "from sklearn.linear_model import LogisticRegression\n",
    "lr = LogisticRegression(max_iter=3000)\n",
    "\n",
    "lr.fit(X_train,y_train)\n",
    "y_pred = lr.predict(X_test)\n",
    "print(y_pred)"
   ]
  },
  {
   "cell_type": "code",
   "execution_count": 43,
   "id": "d4918367",
   "metadata": {},
   "outputs": [
    {
     "name": "stdout",
     "output_type": "stream",
     "text": [
      "0.9629629629629629\n"
     ]
    }
   ],
   "source": [
    "print(metrics.accuracy_score(y_test,y_pred))"
   ]
  },
  {
   "cell_type": "code",
   "execution_count": 49,
   "id": "15427d74",
   "metadata": {},
   "outputs": [
    {
     "name": "stdout",
     "output_type": "stream",
     "text": [
      "[1 1 0 0 2 2 1 2 1 0 2 1 1 1 1 0 0 0 1 0 1 0 1 1 0 0 1 1 1 1 1 0 0 1 1 1 1\n",
      " 2 1 2 0 1 2 1 0 0 1 2 0 0 0 1 0 1]\n"
     ]
    }
   ],
   "source": [
    "# KNN (K-Nearest-Neighbours)\n",
    "\n",
    "from sklearn.neighbors import KNeighborsClassifier\n",
    "knn = KNeighborsClassifier()\n",
    "\n",
    "knn.fit(X_train,y_train)\n",
    "y_pred = knn.predict(X_test)\n",
    "print(y_pred)"
   ]
  },
  {
   "cell_type": "code",
   "execution_count": 50,
   "id": "b76dadea",
   "metadata": {},
   "outputs": [
    {
     "name": "stdout",
     "output_type": "stream",
     "text": [
      "0.6296296296296297\n"
     ]
    }
   ],
   "source": [
    "print(metrics.accuracy_score(y_test,y_pred))"
   ]
  },
  {
   "cell_type": "code",
   "execution_count": 46,
   "id": "716c1f2f",
   "metadata": {},
   "outputs": [],
   "source": [
    "# Decision Tree\n",
    "\n",
    "from sklearn.tree import DecisionTreeClassifier\n",
    "dt = DecisionTreeClassifier()"
   ]
  },
  {
   "cell_type": "code",
   "execution_count": 51,
   "id": "97626cc5",
   "metadata": {},
   "outputs": [
    {
     "name": "stdout",
     "output_type": "stream",
     "text": [
      "[1 2 0 0 1 1 1 1 1 1 2 1 2 2 2 0 2 0 1 0 1 0 2 1 0 0 1 1 1 2 2 1 0 1 2 1 1\n",
      " 1 1 2 0 1 1 2 0 2 2 2 0 0 0 1 0 2]\n"
     ]
    }
   ],
   "source": [
    "dt.fit(X_train,y_train)\n",
    "y_pred = dt.predict(X_test)\n",
    "print(y_pred)"
   ]
  },
  {
   "cell_type": "code",
   "execution_count": 52,
   "id": "21e0e4fc",
   "metadata": {},
   "outputs": [
    {
     "name": "stdout",
     "output_type": "stream",
     "text": [
      "0.8148148148148148\n"
     ]
    }
   ],
   "source": [
    "print(metrics.accuracy_score(y_test,y_pred))"
   ]
  },
  {
   "cell_type": "code",
   "execution_count": null,
   "id": "708deaf8",
   "metadata": {},
   "outputs": [],
   "source": []
  },
  {
   "cell_type": "code",
   "execution_count": null,
   "id": "62b1e39d",
   "metadata": {},
   "outputs": [],
   "source": []
  },
  {
   "cell_type": "code",
   "execution_count": 53,
   "id": "68887222",
   "metadata": {},
   "outputs": [],
   "source": [
    "#Loading Dataset\n",
    "df = pd.read_csv('Wine.csv')"
   ]
  },
  {
   "cell_type": "code",
   "execution_count": 56,
   "id": "14e463d9",
   "metadata": {},
   "outputs": [
    {
     "name": "stdout",
     "output_type": "stream",
     "text": [
      "[('GNB', GaussianNB()), ('LR', LogisticRegression()), ('KNN', KNeighborsClassifier()), ('DT', DecisionTreeClassifier())]\n"
     ]
    }
   ],
   "source": [
    "# Cross Validation\n",
    "\n",
    "X = df.drop(columns = ['Class'])\n",
    "Y = df['Class']\n",
    "x_train, x_test, y_train,y_test = train_test_split(X, Y, test_size=0.20, random_state=42)\n",
    "\n",
    "models = []\n",
    "models.append(('GNB', GaussianNB()))\n",
    "models.append(('LR', LogisticRegression()))\n",
    "models.append(('KNN', KNeighborsClassifier()))\n",
    "models.append(('DT', DecisionTreeClassifier()))\n",
    "print(models)"
   ]
  },
  {
   "cell_type": "code",
   "execution_count": 57,
   "id": "1434d1d9",
   "metadata": {},
   "outputs": [
    {
     "name": "stderr",
     "output_type": "stream",
     "text": [
      "C:\\Users\\User\\anaconda3\\lib\\site-packages\\sklearn\\linear_model\\_logistic.py:814: ConvergenceWarning: lbfgs failed to converge (status=1):\n",
      "STOP: TOTAL NO. of ITERATIONS REACHED LIMIT.\n",
      "\n",
      "Increase the number of iterations (max_iter) or scale the data as shown in:\n",
      "    https://scikit-learn.org/stable/modules/preprocessing.html\n",
      "Please also refer to the documentation for alternative solver options:\n",
      "    https://scikit-learn.org/stable/modules/linear_model.html#logistic-regression\n",
      "  n_iter_i = _check_optimize_result(\n",
      "C:\\Users\\User\\anaconda3\\lib\\site-packages\\sklearn\\linear_model\\_logistic.py:814: ConvergenceWarning: lbfgs failed to converge (status=1):\n",
      "STOP: TOTAL NO. of ITERATIONS REACHED LIMIT.\n",
      "\n",
      "Increase the number of iterations (max_iter) or scale the data as shown in:\n",
      "    https://scikit-learn.org/stable/modules/preprocessing.html\n",
      "Please also refer to the documentation for alternative solver options:\n",
      "    https://scikit-learn.org/stable/modules/linear_model.html#logistic-regression\n",
      "  n_iter_i = _check_optimize_result(\n",
      "C:\\Users\\User\\anaconda3\\lib\\site-packages\\sklearn\\linear_model\\_logistic.py:814: ConvergenceWarning: lbfgs failed to converge (status=1):\n",
      "STOP: TOTAL NO. of ITERATIONS REACHED LIMIT.\n",
      "\n",
      "Increase the number of iterations (max_iter) or scale the data as shown in:\n",
      "    https://scikit-learn.org/stable/modules/preprocessing.html\n",
      "Please also refer to the documentation for alternative solver options:\n",
      "    https://scikit-learn.org/stable/modules/linear_model.html#logistic-regression\n",
      "  n_iter_i = _check_optimize_result(\n",
      "C:\\Users\\User\\anaconda3\\lib\\site-packages\\sklearn\\linear_model\\_logistic.py:814: ConvergenceWarning: lbfgs failed to converge (status=1):\n",
      "STOP: TOTAL NO. of ITERATIONS REACHED LIMIT.\n",
      "\n",
      "Increase the number of iterations (max_iter) or scale the data as shown in:\n",
      "    https://scikit-learn.org/stable/modules/preprocessing.html\n",
      "Please also refer to the documentation for alternative solver options:\n",
      "    https://scikit-learn.org/stable/modules/linear_model.html#logistic-regression\n",
      "  n_iter_i = _check_optimize_result(\n",
      "C:\\Users\\User\\anaconda3\\lib\\site-packages\\sklearn\\linear_model\\_logistic.py:814: ConvergenceWarning: lbfgs failed to converge (status=1):\n",
      "STOP: TOTAL NO. of ITERATIONS REACHED LIMIT.\n",
      "\n",
      "Increase the number of iterations (max_iter) or scale the data as shown in:\n",
      "    https://scikit-learn.org/stable/modules/preprocessing.html\n",
      "Please also refer to the documentation for alternative solver options:\n",
      "    https://scikit-learn.org/stable/modules/linear_model.html#logistic-regression\n",
      "  n_iter_i = _check_optimize_result(\n",
      "C:\\Users\\User\\anaconda3\\lib\\site-packages\\sklearn\\linear_model\\_logistic.py:814: ConvergenceWarning: lbfgs failed to converge (status=1):\n",
      "STOP: TOTAL NO. of ITERATIONS REACHED LIMIT.\n",
      "\n",
      "Increase the number of iterations (max_iter) or scale the data as shown in:\n",
      "    https://scikit-learn.org/stable/modules/preprocessing.html\n",
      "Please also refer to the documentation for alternative solver options:\n",
      "    https://scikit-learn.org/stable/modules/linear_model.html#logistic-regression\n",
      "  n_iter_i = _check_optimize_result(\n",
      "C:\\Users\\User\\anaconda3\\lib\\site-packages\\sklearn\\linear_model\\_logistic.py:814: ConvergenceWarning: lbfgs failed to converge (status=1):\n",
      "STOP: TOTAL NO. of ITERATIONS REACHED LIMIT.\n",
      "\n",
      "Increase the number of iterations (max_iter) or scale the data as shown in:\n",
      "    https://scikit-learn.org/stable/modules/preprocessing.html\n",
      "Please also refer to the documentation for alternative solver options:\n",
      "    https://scikit-learn.org/stable/modules/linear_model.html#logistic-regression\n",
      "  n_iter_i = _check_optimize_result(\n",
      "C:\\Users\\User\\anaconda3\\lib\\site-packages\\sklearn\\linear_model\\_logistic.py:814: ConvergenceWarning: lbfgs failed to converge (status=1):\n",
      "STOP: TOTAL NO. of ITERATIONS REACHED LIMIT.\n",
      "\n",
      "Increase the number of iterations (max_iter) or scale the data as shown in:\n",
      "    https://scikit-learn.org/stable/modules/preprocessing.html\n",
      "Please also refer to the documentation for alternative solver options:\n",
      "    https://scikit-learn.org/stable/modules/linear_model.html#logistic-regression\n",
      "  n_iter_i = _check_optimize_result(\n"
     ]
    },
    {
     "name": "stdout",
     "output_type": "stream",
     "text": [
      "\n",
      "name    results.mean    results.std\n",
      "GNB (0.9571428571428571, 0.04738035414793428)\n",
      "LR (0.9428571428571428, 0.062269984907723924)\n",
      "KNN (0.6476190476190476, 0.0720606950020074)\n",
      "DT (0.9, 0.09147320339189785)\n"
     ]
    },
    {
     "name": "stderr",
     "output_type": "stream",
     "text": [
      "C:\\Users\\User\\anaconda3\\lib\\site-packages\\sklearn\\linear_model\\_logistic.py:814: ConvergenceWarning: lbfgs failed to converge (status=1):\n",
      "STOP: TOTAL NO. of ITERATIONS REACHED LIMIT.\n",
      "\n",
      "Increase the number of iterations (max_iter) or scale the data as shown in:\n",
      "    https://scikit-learn.org/stable/modules/preprocessing.html\n",
      "Please also refer to the documentation for alternative solver options:\n",
      "    https://scikit-learn.org/stable/modules/linear_model.html#logistic-regression\n",
      "  n_iter_i = _check_optimize_result(\n",
      "C:\\Users\\User\\anaconda3\\lib\\site-packages\\sklearn\\linear_model\\_logistic.py:814: ConvergenceWarning: lbfgs failed to converge (status=1):\n",
      "STOP: TOTAL NO. of ITERATIONS REACHED LIMIT.\n",
      "\n",
      "Increase the number of iterations (max_iter) or scale the data as shown in:\n",
      "    https://scikit-learn.org/stable/modules/preprocessing.html\n",
      "Please also refer to the documentation for alternative solver options:\n",
      "    https://scikit-learn.org/stable/modules/linear_model.html#logistic-regression\n",
      "  n_iter_i = _check_optimize_result(\n"
     ]
    }
   ],
   "source": [
    "results = dict()\n",
    "for name, model in models:\n",
    "    kfold = StratifiedKFold(n_splits=10)\n",
    "    cv_results = cross_val_score(model, x_train,y_train, cv=kfold, scoring=\"accuracy\")\n",
    "    results[name]=(cv_results.mean(), cv_results.std())\n",
    "\n",
    "print()\n",
    "print(\"name    results.mean    results.std\")\n",
    "for key, value in results.items():\n",
    "    print(key,value)"
   ]
  },
  {
   "cell_type": "code",
   "execution_count": null,
   "id": "a6789828",
   "metadata": {},
   "outputs": [],
   "source": []
  },
  {
   "cell_type": "code",
   "execution_count": null,
   "id": "99453f5b",
   "metadata": {},
   "outputs": [],
   "source": []
  },
  {
   "cell_type": "code",
   "execution_count": null,
   "id": "95d5637b",
   "metadata": {},
   "outputs": [],
   "source": []
  },
  {
   "cell_type": "code",
   "execution_count": 58,
   "id": "a1bd2baa",
   "metadata": {},
   "outputs": [],
   "source": [
    "#Import SrackingClassifier from sklearn.ensemble\n",
    "\n",
    "\n",
    "from sklearn.ensemble import StackingClassifier\n",
    "from sklearn import datasets\n",
    "from sklearn.datasets import load_iris\n",
    "from sklearn import model_selection\n",
    "from sklearn.model_selection import train_test_split\n",
    "\n",
    "import warnings\n",
    "warnings.filterwarnings('ignore')"
   ]
  },
  {
   "cell_type": "code",
   "execution_count": 59,
   "id": "7c031112",
   "metadata": {},
   "outputs": [],
   "source": [
    "m1 = GaussianNB()\n",
    "m2 = LogisticRegression()\n",
    "m3 = KNeighborsClassifier()\n",
    "m4 = DecisionTreeClassifier()"
   ]
  },
  {
   "cell_type": "code",
   "execution_count": 60,
   "id": "bd0b3a8a",
   "metadata": {},
   "outputs": [],
   "source": [
    "model = StackingClassifier([('gnb',m1),('lr',m2),('knn',m3),('dt',m4)])"
   ]
  },
  {
   "cell_type": "code",
   "execution_count": 61,
   "id": "5152e4a5",
   "metadata": {},
   "outputs": [],
   "source": [
    "# Training Model\n",
    "\n",
    "data = load_iris()\n",
    "\n",
    "X_train, X_test, y_train, y_test = train_test_split(df.iloc[:, :-1].values,\n",
    "                                                    df.iloc[:, -1].values,\n",
    "                                                    test_size=0.2,random_state=8) \n",
    "\n",
    "X_train = df.iloc[:, :-1]\n",
    "y_train = df.iloc[:, -1]"
   ]
  },
  {
   "cell_type": "code",
   "execution_count": 64,
   "id": "fd1194ad",
   "metadata": {},
   "outputs": [
    {
     "data": {
      "text/plain": [
       "StackingClassifier(estimators=[('gnb', GaussianNB()),\n",
       "                               ('lr', LogisticRegression()),\n",
       "                               ('knn', KNeighborsClassifier()),\n",
       "                               ('dt', DecisionTreeClassifier())])"
      ]
     },
     "execution_count": 64,
     "metadata": {},
     "output_type": "execute_result"
    }
   ],
   "source": [
    "model.fit(X_train, y_train)"
   ]
  },
  {
   "cell_type": "code",
   "execution_count": 65,
   "id": "dfc976ac",
   "metadata": {},
   "outputs": [
    {
     "data": {
      "text/plain": [
       "2.8089887640449436"
      ]
     },
     "execution_count": 65,
     "metadata": {},
     "output_type": "execute_result"
    }
   ],
   "source": [
    "# Accuracy on train dataset\n",
    "\n",
    "model.score(X_train, y_train)*100"
   ]
  },
  {
   "cell_type": "code",
   "execution_count": 66,
   "id": "b5831969",
   "metadata": {},
   "outputs": [
    {
     "data": {
      "text/plain": [
       "2.7777777777777777"
      ]
     },
     "execution_count": 66,
     "metadata": {},
     "output_type": "execute_result"
    }
   ],
   "source": [
    "# Accuracy on Test datasets\n",
    "model.score(X_test, y_test)*100"
   ]
  },
  {
   "cell_type": "code",
   "execution_count": null,
   "id": "723c4e5a",
   "metadata": {},
   "outputs": [],
   "source": []
  }
 ],
 "metadata": {
  "kernelspec": {
   "display_name": "Python 3 (ipykernel)",
   "language": "python",
   "name": "python3"
  },
  "language_info": {
   "codemirror_mode": {
    "name": "ipython",
    "version": 3
   },
   "file_extension": ".py",
   "mimetype": "text/x-python",
   "name": "python",
   "nbconvert_exporter": "python",
   "pygments_lexer": "ipython3",
   "version": "3.9.12"
  }
 },
 "nbformat": 4,
 "nbformat_minor": 5
}
